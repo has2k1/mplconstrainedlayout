{
 "cells": [
  {
   "cell_type": "code",
   "execution_count": 1,
   "metadata": {},
   "outputs": [
    {
     "name": "stderr",
     "output_type": "stream",
     "text": [
      "/Users/jklymak/matplotlib/lib/matplotlib/style/core.py:197: UserWarning: In /Users/jklymak/.matplotlib/stylelib/ggplotjmk.mplstyle: axes.color_cycle is deprecated and replaced with axes.prop_cycle; please use the latter.\n",
      "  warnings.warn(message)\n"
     ]
    }
   ],
   "source": [
    "%load_ext autoreload\n",
    "%autoreload 2\n",
    "import LayoutBox as lb\n",
    "import matplotlib.pyplot as plt\n",
    "%matplotlib inline\n",
    "import numpy as np\n",
    "def plot_children(ax, box, level=0):\n",
    "    '''\n",
    "    Simple plotting to show where boxes are\n",
    "    '''\n",
    "    import matplotlib.patches as patches\n",
    "    colors = plt.rcParams[\"axes.prop_cycle\"].by_key()[\"color\"]\n",
    "    # print(level)\n",
    "    for child in box.children:\n",
    "        rect = child.get_rect()\n",
    "        print(child.name, child.get_rect())\n",
    "        ax.add_patch(\n",
    "            patches.Rectangle(\n",
    "                (child.left.value(), child.bottom.value()),   # (x,y)\n",
    "                child.width.value(),          # width\n",
    "                child.height.value(),          # height\n",
    "                fc = 'none',\n",
    "                ec = colors[level]\n",
    "            )\n",
    "        )\n",
    "        if level%2 == 0:\n",
    "            ax.text(child.left.value(), child.bottom.value(), child.name,\n",
    "                   size=12-level, color=colors[level])\n",
    "        else:\n",
    "            ax.text(child.right.value(), child.top.value(), child.name, \n",
    "                    ha='right', va='top', size=12-level, color=colors[level])\n",
    "        \n",
    "        plot_children(ax, child, level=level+1)\n"
   ]
  },
  {
   "cell_type": "markdown",
   "metadata": {},
   "source": [
    "## Some random layouts"
   ]
  },
  {
   "cell_type": "code",
   "execution_count": 2,
   "metadata": {},
   "outputs": [
    {
     "name": "stdout",
     "output_type": "stream",
     "text": [
      "top (0.2, 0.755, 0.6000000000000001, 0.245)\n",
      "topl (0.19999980926513672, 0.755000114440918, 0.1999988555908203, 0.24499893188476562)\n",
      "topm (0.39999961853027344, 0.755000114440918, 0.1999988555908203, 0.24499893188476562)\n",
      "topr (0.5999994277954102, 0.755000114440918, 0.1999988555908203, 0.24499893188476562)\n",
      "middle (0.1, 0.255, 0.7999999999999999, 0.49)\n",
      "bottom (0.0, 0.0, 1.0, 0.245)\n"
     ]
    },
    {
     "data": {
      "image/png": "[encoded data removed]",
      "text/plain": [
       "<matplotlib.figure.Figure at 0x109e6fef0>"
      ]
     },
     "metadata": {},
     "output_type": "display_data"
    }
   ],
   "source": [
    "fig = lb.LayoutBox(parent=None, name='fig', tight=True)\n",
    "fig.set_geometry(0,0,1.,1.)\n",
    "\n",
    "top = lb.LayoutBox(parent=fig, name='top')\n",
    "middle = lb.LayoutBox(parent=fig, name='middle')\n",
    "bottom = lb.LayoutBox(parent=fig, name='bottom')\n",
    "\n",
    "# stack these with height ratios 1, 2, 1\n",
    "lb.vstackeq([top, middle, bottom], \n",
    "            height_ratios=[1.,2.,1.], padding = 0.01)\n",
    "\n",
    "#middle.set_height(0.2)\n",
    "\n",
    "#middle.set_bottom(0.3)\n",
    "\n",
    "middle.set_left(0.1)\n",
    "top.set_left_margin(0.2)\n",
    "top.set_right_margin(0.2)\n",
    "\n",
    "lb.align([top,middle],'h_center')\n",
    "\n",
    "topl = lb.LayoutBox(parent=top, name='topl')\n",
    "topm = lb.LayoutBox(parent=top, name='topm')\n",
    "topr = lb.LayoutBox(parent=top, name='topr')\n",
    "\n",
    "lb.hstackeq([topl,topm,topr])\n",
    "\n",
    "bottom.update_variables()\n",
    "\n",
    "\n",
    "f,ax = plt.subplots()\n",
    "plot_children(ax, fig)"
   ]
  },
  {
   "cell_type": "markdown",
   "metadata": {
    "collapsed": true
   },
   "source": [
    "## Potential subplot layout\n",
    "\n",
    "So a major goal of this is to be able to figure out the difference between the spine of an axis (`ax.get_position`) and it's bounding box (`ax.get_tight_bbox`) and then change the position of the spines so there is room inside the gridspec for the bbox.  \n",
    "\n",
    "Here we call `set_bottom_margin_min` for a few of the axes, but use different values.  Then we call `lb.match_margins` on a list of axes, and they all have the same margins with the margin size set by the largest margin needed by the list of axes.  \n"
   ]
  },
  {
   "cell_type": "code",
   "execution_count": 3,
   "metadata": {},
   "outputs": [
    {
     "name": "stdout",
     "output_type": "stream",
     "text": [
      "sp1 (0.0, 0.0, 0.25, 1.0)\n",
      "ax1 (0.03999999999999997, 0.03999999999999997, 0.19, 0.9099999999999999)\n",
      "sp2 (0.25, 0.4117647058823529, 0.5, 0.5882352941176471)\n",
      "ax2 (0.29, 0.4517647058823529, 0.44, 0.49823434044333076)\n",
      "sp3 (0.75, 0.4117647058823529, 0.25, 0.5882352941176471)\n",
      "ax3 (0.7899999999999999, 0.4517647058823529, 0.19000000000000006, 0.49823434044333065)\n",
      "sp4 (0.25, 0.0, 0.5, 0.4117647058823529)\n",
      "ax4 (0.29, 0.03999999999999997, 0.44, 0.32176470588235295)\n",
      "sp5 (0.75, 0.0, 0.25, 0.4117647058823529)\n",
      "ax5 (0.7899999999999999, 0.03999999999999997, 0.19000000000000006, 0.3217647058823529)\n",
      "(0.7899999999999999, 0.03999999999999997, 0.19000000000000006, 0.3217647058823529)\n",
      "LayoutBox: ax5, (left: 0.79) (bot: 0.04) (right: 0.98) (top: 0.36)\n"
     ]
    },
    {
     "data": {
      "image/png": "[encoded data removed]",
      "text/plain": [
       "<matplotlib.figure.Figure at 0x109fe98d0>"
      ]
     },
     "metadata": {},
     "output_type": "display_data"
    }
   ],
   "source": [
    "import matplotlib.gridspec as gridspec\n",
    "nrows = 2\n",
    "ncols = 3\n",
    "gs = gridspec.GridSpec(nrows, ncols, height_ratios=[1.,0.7], width_ratios=[1.,2.,1.])\n",
    "\n",
    "# we will *not* use the gs to make the subplots\n",
    "#fig,ax = plt.subplots()\n",
    "\n",
    "figL = lb.LayoutBox(parent=None, name='fig', tight=True)\n",
    "figL.set_geometry(0,0,1.,1.)\n",
    "\n",
    "sp1 = figL.layout_from_gridspec(gs[:,0], name='sp1')\n",
    "sp2 = figL.layout_from_gridspec(gs[0,1], name='sp2')\n",
    "sp3 = figL.layout_from_gridspec(gs[0,2], name='sp3')\n",
    "sp4 = figL.layout_from_gridspec(gs[1,1], name='sp4')\n",
    "sp5 = figL.layout_from_gridspec(gs[1,2], name='sp5')\n",
    "\n",
    "ax1 = lb.LayoutBox(parent=sp1, name='ax1')\n",
    "ax1.set_bottom_margin_min(0.01)\n",
    "ax1.set_left_margin_min(0.01)\n",
    "ax1.update_variables()\n",
    "\n",
    "ax2 = lb.LayoutBox(parent=sp2, name='ax2')\n",
    "ax2.set_bottom_margin_min(0.04)\n",
    "ax2.set_left_margin_min(0.04)\n",
    "\n",
    "ax3 = lb.LayoutBox(parent=sp3, name='ax3')\n",
    "ax4 = lb.LayoutBox(parent=sp4, name='ax4')\n",
    "ax4.set_top_margin(0.05)\n",
    "ax5 = lb.LayoutBox(parent=sp5, name='ax5')\n",
    "\n",
    "ax5.set_right_margin(0.02)\n",
    "\n",
    "lb.match_margins([ax1,ax2, ax3, ax4, ax5])\n",
    "\n",
    "#lb.match_bottom_margins([ax1, ax2, ax3, ax4, ax5])\n",
    "\n",
    "\n",
    "ax2.update_variables()\n",
    "\n",
    "\n",
    "\n",
    "fig, ax = plt.subplots()\n",
    "plot_children(ax, figL)\n",
    "print(ax5.get_rect())\n",
    "print(ax5.__repr__())"
   ]
  },
  {
   "cell_type": "markdown",
   "metadata": {},
   "source": [
    "## example of using layout to constrain axes to match\n",
    "\n",
    "despite different sized and located axes.\n",
    "\n",
    "We will do this backwards using the existing layout as a guide."
   ]
  },
  {
   "cell_type": "code",
   "execution_count": 4,
   "metadata": {},
   "outputs": [
    {
     "data": {
      "image/png": "[encoded data removed]",
      "text/plain": [
       "<matplotlib.figure.Figure at 0x10a0ee748>"
      ]
     },
     "metadata": {},
     "output_type": "display_data"
    }
   ],
   "source": [
    "fig = plt.figure()\n",
    "nrows = 2\n",
    "ncols = 3\n",
    "gs = gridspec.GridSpec(nrows, ncols, height_ratios=[1.,0.5], width_ratios=[0.5,1.,1.])\n",
    "\n",
    "axs = []\n",
    "axs += [fig.add_subplot(gs[:,0])]\n",
    "axs[0].set_title('axs[0]')\n",
    "n = 0\n",
    "for i in range(2):\n",
    "    for j in range(2):\n",
    "        n += 1\n",
    "        axs += [fig.add_subplot(gs[i,j+1])]\n",
    "        axs[-1].set_title('axs[%d]'%n)\n",
    "        axs[-1].set_xlabel('xlabel')\n",
    "        axs[-1].set_ylabel('ylabel')\n",
    "\n",
    "axs[1].plot(np.arange(2000),np.arange(2000)/100.)\n",
    "axs[2].plot(np.arange(2000))\n",
    "\n",
    "\n",
    "axs[3].yaxis.set_ticks_position('right')\n",
    "axs[3].yaxis.set_label_position(\"right\")\n",
    "# OK, now fix.  Note fig.tight_layout will fix as well.\n",
    "# fig.tight_layout()\n",
    "def constrained_layout(fig, axs=None, leftpad=0, bottompad=0,\n",
    "                      rightpad=0, toppad=0, pad=None):\n",
    "\n",
    "    if axs == None:\n",
    "        axs = fig.get_axes()    \n",
    "    if isinstance(axs,list):\n",
    "        pass\n",
    "    else:\n",
    "        axs = [axs]\n",
    "    if pad != None:\n",
    "        leftpad = pad\n",
    "        righttpad = pad\n",
    "        toppad = pad\n",
    "        bottompad = pad\n",
    "        \n",
    "        \n",
    "    figlb = lb.LayoutBox(parent=None, name='figlb')\n",
    "    \n",
    "    axlbs = []\n",
    "    spinelbs = []\n",
    "\n",
    "    renderer = fig.canvas.get_renderer()\n",
    "    for n,ax in enumerate(axs):\n",
    "        ss=ax.get_subplotspec()\n",
    "        axlb = figlb.layout_from_gridspec(ss, name='axlb%d'%n)\n",
    " \n",
    "        # OK, we have already pre-plotted the axes, so we know their positions and their bbox\n",
    "        pos = ax.get_position()\n",
    "        invTransFig = fig.transFigure.inverted().transform_bbox\n",
    "        bbox = invTransFig(ax.get_tightbbox(renderer=renderer))\n",
    "\n",
    "        spinelb = lb.LayoutBox(parent=axlb, name='spinelb%d'%n)\n",
    "        spinelb.set_left_margin_min(-bbox.x0+pos.x0+leftpad)\n",
    "        spinelb.set_right_margin_min(bbox.x1-pos.x1+rightpad)\n",
    "        spinelb.set_bottom_margin_min(-bbox.y0+pos.y0+bottompad)\n",
    "        spinelb.set_top_margin_min(bbox.y1-pos.y1+toppad)\n",
    "\n",
    "        axlbs += [axlb]\n",
    "        spinelbs += [spinelb]\n",
    "\n",
    " \n",
    "    # make all the margins match\n",
    "    lb.match_margins(spinelbs)\n",
    "    # run the solver\n",
    "    figlb.update_variables()\n",
    "\n",
    "    # OK, this should give us the new positions that will fit the axes...\n",
    "\n",
    "    for spinelb,ax in zip(spinelbs,axs):\n",
    "        ax.set_position(spinelb.get_rect())\n",
    "\n",
    "# by calling this multiple times, only the axes in the list are matched wrt their margins\n",
    "constrained_layout(fig,axs[0])\n",
    "constrained_layout(fig,axs[1:], toppad=0.015)\n",
    "\n",
    "#constrained_layout(fig,axs[1:3], rightpad=0.01, leftpad=0.01)\n",
    "#constrained_layout(fig,axs[3], toppad=0.01, leftpad=0.02)\n",
    "#constrained_layout(fig,axs[-1],pad=0.05)"
   ]
  },
  {
   "cell_type": "markdown",
   "metadata": {},
   "source": [
    "### as before, but even more options to constrained_layout"
   ]
  },
  {
   "cell_type": "code",
   "execution_count": 5,
   "metadata": {},
   "outputs": [
    {
     "data": {
      "image/png": "[encoded data removed]",
      "text/plain": [
       "<matplotlib.figure.Figure at 0x109fde518>"
      ]
     },
     "metadata": {},
     "output_type": "display_data"
    }
   ],
   "source": [
    "fig = plt.figure()\n",
    "nrows = 2\n",
    "ncols = 3\n",
    "gs = gridspec.GridSpec(nrows, ncols, height_ratios=[1.,0.5], width_ratios=[0.5,1.,1.])\n",
    "\n",
    "axs = []\n",
    "axs += [fig.add_subplot(gs[:,0])]\n",
    "axs[0].set_title('axs[0]')\n",
    "n = 0\n",
    "for i in range(2):\n",
    "    for j in range(2):\n",
    "        n += 1\n",
    "        axs += [fig.add_subplot(gs[i,j+1])]\n",
    "        axs[-1].set_title('axs[%d]'%n)\n",
    "        axs[-1].set_xlabel('xlabel')\n",
    "        axs[-1].set_ylabel('ylabel')\n",
    "\n",
    "axs[1].plot(np.arange(2000),np.arange(2000)/100.)\n",
    "axs[2].plot(np.arange(2000))\n",
    "\n",
    "\n",
    "axs[3].yaxis.set_ticks_position('right')\n",
    "axs[3].yaxis.set_label_position(\"right\")\n",
    "# OK, now fix.  Note fig.tight_layout will fix as well.\n",
    "# fig.tight_layout()\n",
    "\n",
    "\n",
    "# by calling this multiple times, only the axes in the list are matched wrt their margins\n",
    "constrained_layout(fig,axs[0])\n",
    "constrained_layout(fig,axs[1:3], rightpad=0.01, leftpad=0.01)\n",
    "constrained_layout(fig,axs[3], toppad=0.01, leftpad=0.02)\n",
    "constrained_layout(fig,axs[-1],pad=0.05)"
   ]
  },
  {
   "cell_type": "code",
   "execution_count": null,
   "metadata": {
    "collapsed": true
   },
   "outputs": [],
   "source": [
    "ax.set_ylabel()"
   ]
  }
 ],
 "metadata": {
  "kernelspec": {
   "display_name": "Python 3",
   "language": "python",
   "name": "python3"
  },
  "language_info": {
   "codemirror_mode": {
    "name": "ipython",
    "version": 3
   },
   "file_extension": ".py",
   "mimetype": "text/x-python",
   "name": "python",
   "nbconvert_exporter": "python",
   "pygments_lexer": "ipython3",
   "version": "3.6.1"
  },
  "toc": {
   "colors": {
    "hover_highlight": "#DAA520",
    "running_highlight": "#FF0000",
    "selected_highlight": "#FFD700"
   },
   "moveMenuLeft": true,
   "nav_menu": {
    "height": "84px",
    "width": "252px"
   },
   "navigate_menu": true,
   "number_sections": true,
   "sideBar": true,
   "threshold": 4,
   "toc_cell": false,
   "toc_section_display": "block",
   "toc_window_display": false,
   "widenNotebook": false
  }
 },
 "nbformat": 4,
 "nbformat_minor": 2
}
